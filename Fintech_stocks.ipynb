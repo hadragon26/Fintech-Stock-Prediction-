{
  "nbformat": 4,
  "nbformat_minor": 0,
  "metadata": {
    "colab": {
      "name": "Fintech stocks ",
      "provenance": [],
      "collapsed_sections": []
    },
    "kernelspec": {
      "name": "python3",
      "display_name": "Python 3"
    },
    "language_info": {
      "name": "python"
    },
    "accelerator": "GPU"
  },
  "cells": [
    {
      "cell_type": "code",
      "metadata": {
        "id": "vsFbjoTwzrL_"
      },
      "source": [
        "import numpy as np\n",
        "import pandas as pd\n",
        "import matplotlib.pyplot as plt \n",
        "import io "
      ],
      "execution_count": 2,
      "outputs": []
    },
    {
      "cell_type": "code",
      "metadata": {
        "colab": {
          "resources": {
            "http://localhost:8080/nbextensions/google.colab/files.js": {
              "data": "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",
              "ok": true,
              "headers": [
                [
                  "content-type",
                  "application/javascript"
                ]
              ],
              "status": 200,
              "status_text": ""
            }
          },
          "base_uri": "https://localhost:8080/",
          "height": 73
        },
        "id": "ZP5BEX7Fzvd9",
        "outputId": "f3c93b66-55aa-46ed-da7f-eecf37e019f9"
      },
      "source": [
        "# import file\n",
        "\n",
        "from google.colab import files\n",
        "uploaded = files.upload()"
      ],
      "execution_count": 3,
      "outputs": [
        {
          "output_type": "display_data",
          "data": {
            "text/html": [
              "\n",
              "     <input type=\"file\" id=\"files-69c7861c-c0ca-438c-a977-28d0b21e32a6\" name=\"files[]\" multiple disabled\n",
              "        style=\"border:none\" />\n",
              "     <output id=\"result-69c7861c-c0ca-438c-a977-28d0b21e32a6\">\n",
              "      Upload widget is only available when the cell has been executed in the\n",
              "      current browser session. Please rerun this cell to enable.\n",
              "      </output>\n",
              "      <script src=\"/nbextensions/google.colab/files.js\"></script> "
            ],
            "text/plain": [
              "<IPython.core.display.HTML object>"
            ]
          },
          "metadata": {}
        },
        {
          "output_type": "stream",
          "name": "stdout",
          "text": [
            "Saving sample_submission.csv to sample_submission.csv\n"
          ]
        }
      ]
    },
    {
      "cell_type": "code",
      "metadata": {
        "id": "47YroIS40TDW"
      },
      "source": [
        "dataset = pd.read_csv('data.csv',parse_dates=True)"
      ],
      "execution_count": 3,
      "outputs": []
    },
    {
      "cell_type": "code",
      "metadata": {
        "colab": {
          "base_uri": "https://localhost:8080/",
          "height": 417
        },
        "id": "GBwrDJ7824_a",
        "outputId": "3e99a745-8610-4d7a-e3c3-d6398416354e"
      },
      "source": [
        "dataset"
      ],
      "execution_count": 4,
      "outputs": [
        {
          "output_type": "execute_result",
          "data": {
            "text/html": [
              "<div>\n",
              "<style scoped>\n",
              "    .dataframe tbody tr th:only-of-type {\n",
              "        vertical-align: middle;\n",
              "    }\n",
              "\n",
              "    .dataframe tbody tr th {\n",
              "        vertical-align: top;\n",
              "    }\n",
              "\n",
              "    .dataframe thead th {\n",
              "        text-align: right;\n",
              "    }\n",
              "</style>\n",
              "<table border=\"1\" class=\"dataframe\">\n",
              "  <thead>\n",
              "    <tr style=\"text-align: right;\">\n",
              "      <th></th>\n",
              "      <th>Date</th>\n",
              "      <th>Open</th>\n",
              "      <th>High</th>\n",
              "      <th>Low</th>\n",
              "      <th>Close</th>\n",
              "      <th>Volume</th>\n",
              "    </tr>\n",
              "  </thead>\n",
              "  <tbody>\n",
              "    <tr>\n",
              "      <th>0</th>\n",
              "      <td>2010-09-13</td>\n",
              "      <td>15400</td>\n",
              "      <td>15519</td>\n",
              "      <td>15320</td>\n",
              "      <td>15400</td>\n",
              "      <td>234851</td>\n",
              "    </tr>\n",
              "    <tr>\n",
              "      <th>1</th>\n",
              "      <td>2010-09-14</td>\n",
              "      <td>15500</td>\n",
              "      <td>15620</td>\n",
              "      <td>15200</td>\n",
              "      <td>15200</td>\n",
              "      <td>371530</td>\n",
              "    </tr>\n",
              "    <tr>\n",
              "      <th>2</th>\n",
              "      <td>2010-09-15</td>\n",
              "      <td>15260</td>\n",
              "      <td>15340</td>\n",
              "      <td>15020</td>\n",
              "      <td>15140</td>\n",
              "      <td>389289</td>\n",
              "    </tr>\n",
              "    <tr>\n",
              "      <th>3</th>\n",
              "      <td>2010-09-16</td>\n",
              "      <td>15080</td>\n",
              "      <td>15260</td>\n",
              "      <td>15080</td>\n",
              "      <td>15140</td>\n",
              "      <td>234815</td>\n",
              "    </tr>\n",
              "    <tr>\n",
              "      <th>4</th>\n",
              "      <td>2010-09-17</td>\n",
              "      <td>15240</td>\n",
              "      <td>15560</td>\n",
              "      <td>15159</td>\n",
              "      <td>15460</td>\n",
              "      <td>447649</td>\n",
              "    </tr>\n",
              "    <tr>\n",
              "      <th>...</th>\n",
              "      <td>...</td>\n",
              "      <td>...</td>\n",
              "      <td>...</td>\n",
              "      <td>...</td>\n",
              "      <td>...</td>\n",
              "      <td>...</td>\n",
              "    </tr>\n",
              "    <tr>\n",
              "      <th>1623</th>\n",
              "      <td>2017-04-06</td>\n",
              "      <td>42000</td>\n",
              "      <td>42080</td>\n",
              "      <td>41600</td>\n",
              "      <td>41840</td>\n",
              "      <td>193668</td>\n",
              "    </tr>\n",
              "    <tr>\n",
              "      <th>1624</th>\n",
              "      <td>2017-04-07</td>\n",
              "      <td>41800</td>\n",
              "      <td>41820</td>\n",
              "      <td>41160</td>\n",
              "      <td>41600</td>\n",
              "      <td>200420</td>\n",
              "    </tr>\n",
              "    <tr>\n",
              "      <th>1625</th>\n",
              "      <td>2017-04-10</td>\n",
              "      <td>41940</td>\n",
              "      <td>41940</td>\n",
              "      <td>41500</td>\n",
              "      <td>41940</td>\n",
              "      <td>142827</td>\n",
              "    </tr>\n",
              "    <tr>\n",
              "      <th>1626</th>\n",
              "      <td>2017-04-11</td>\n",
              "      <td>41940</td>\n",
              "      <td>41940</td>\n",
              "      <td>41580</td>\n",
              "      <td>41600</td>\n",
              "      <td>143458</td>\n",
              "    </tr>\n",
              "    <tr>\n",
              "      <th>1627</th>\n",
              "      <td>2017-04-12</td>\n",
              "      <td>41860</td>\n",
              "      <td>41940</td>\n",
              "      <td>41700</td>\n",
              "      <td>41900</td>\n",
              "      <td>165498</td>\n",
              "    </tr>\n",
              "  </tbody>\n",
              "</table>\n",
              "<p>1628 rows × 6 columns</p>\n",
              "</div>"
            ],
            "text/plain": [
              "            Date   Open   High    Low  Close  Volume\n",
              "0     2010-09-13  15400  15519  15320  15400  234851\n",
              "1     2010-09-14  15500  15620  15200  15200  371530\n",
              "2     2010-09-15  15260  15340  15020  15140  389289\n",
              "3     2010-09-16  15080  15260  15080  15140  234815\n",
              "4     2010-09-17  15240  15560  15159  15460  447649\n",
              "...          ...    ...    ...    ...    ...     ...\n",
              "1623  2017-04-06  42000  42080  41600  41840  193668\n",
              "1624  2017-04-07  41800  41820  41160  41600  200420\n",
              "1625  2017-04-10  41940  41940  41500  41940  142827\n",
              "1626  2017-04-11  41940  41940  41580  41600  143458\n",
              "1627  2017-04-12  41860  41940  41700  41900  165498\n",
              "\n",
              "[1628 rows x 6 columns]"
            ]
          },
          "metadata": {},
          "execution_count": 4
        }
      ]
    },
    {
      "cell_type": "code",
      "metadata": {
        "colab": {
          "base_uri": "https://localhost:8080/",
          "height": 295
        },
        "id": "XF9I9Exc0bso",
        "outputId": "dcca2f9f-77d2-4160-8cd6-82de58bdd694"
      },
      "source": [
        "# seeing the data\n",
        "\n",
        "dataset.describe()"
      ],
      "execution_count": 5,
      "outputs": [
        {
          "output_type": "execute_result",
          "data": {
            "text/html": [
              "<div>\n",
              "<style scoped>\n",
              "    .dataframe tbody tr th:only-of-type {\n",
              "        vertical-align: middle;\n",
              "    }\n",
              "\n",
              "    .dataframe tbody tr th {\n",
              "        vertical-align: top;\n",
              "    }\n",
              "\n",
              "    .dataframe thead th {\n",
              "        text-align: right;\n",
              "    }\n",
              "</style>\n",
              "<table border=\"1\" class=\"dataframe\">\n",
              "  <thead>\n",
              "    <tr style=\"text-align: right;\">\n",
              "      <th></th>\n",
              "      <th>Open</th>\n",
              "      <th>High</th>\n",
              "      <th>Low</th>\n",
              "      <th>Close</th>\n",
              "      <th>Volume</th>\n",
              "    </tr>\n",
              "  </thead>\n",
              "  <tbody>\n",
              "    <tr>\n",
              "      <th>count</th>\n",
              "      <td>1628.000000</td>\n",
              "      <td>1628.000000</td>\n",
              "      <td>1628.000000</td>\n",
              "      <td>1628.000000</td>\n",
              "      <td>1.628000e+03</td>\n",
              "    </tr>\n",
              "    <tr>\n",
              "      <th>mean</th>\n",
              "      <td>25557.827396</td>\n",
              "      <td>25813.232187</td>\n",
              "      <td>25303.552211</td>\n",
              "      <td>25564.656020</td>\n",
              "      <td>2.880353e+05</td>\n",
              "    </tr>\n",
              "    <tr>\n",
              "      <th>std</th>\n",
              "      <td>5412.200956</td>\n",
              "      <td>5457.414669</td>\n",
              "      <td>5394.723398</td>\n",
              "      <td>5436.660567</td>\n",
              "      <td>1.355355e+05</td>\n",
              "    </tr>\n",
              "    <tr>\n",
              "      <th>min</th>\n",
              "      <td>13680.000000</td>\n",
              "      <td>13940.000000</td>\n",
              "      <td>13440.000000</td>\n",
              "      <td>13600.000000</td>\n",
              "      <td>6.598500e+04</td>\n",
              "    </tr>\n",
              "    <tr>\n",
              "      <th>25%</th>\n",
              "      <td>22690.000000</td>\n",
              "      <td>22970.000000</td>\n",
              "      <td>22480.000000</td>\n",
              "      <td>22700.000000</td>\n",
              "      <td>1.991875e+05</td>\n",
              "    </tr>\n",
              "    <tr>\n",
              "      <th>50%</th>\n",
              "      <td>25900.000000</td>\n",
              "      <td>26080.000000</td>\n",
              "      <td>25670.000000</td>\n",
              "      <td>25900.000000</td>\n",
              "      <td>2.534460e+05</td>\n",
              "    </tr>\n",
              "    <tr>\n",
              "      <th>75%</th>\n",
              "      <td>28545.000000</td>\n",
              "      <td>28844.750000</td>\n",
              "      <td>28300.000000</td>\n",
              "      <td>28545.000000</td>\n",
              "      <td>3.364635e+05</td>\n",
              "    </tr>\n",
              "    <tr>\n",
              "      <th>max</th>\n",
              "      <td>42200.000000</td>\n",
              "      <td>42680.000000</td>\n",
              "      <td>41880.000000</td>\n",
              "      <td>42560.000000</td>\n",
              "      <td>1.277983e+06</td>\n",
              "    </tr>\n",
              "  </tbody>\n",
              "</table>\n",
              "</div>"
            ],
            "text/plain": [
              "               Open          High           Low         Close        Volume\n",
              "count   1628.000000   1628.000000   1628.000000   1628.000000  1.628000e+03\n",
              "mean   25557.827396  25813.232187  25303.552211  25564.656020  2.880353e+05\n",
              "std     5412.200956   5457.414669   5394.723398   5436.660567  1.355355e+05\n",
              "min    13680.000000  13940.000000  13440.000000  13600.000000  6.598500e+04\n",
              "25%    22690.000000  22970.000000  22480.000000  22700.000000  1.991875e+05\n",
              "50%    25900.000000  26080.000000  25670.000000  25900.000000  2.534460e+05\n",
              "75%    28545.000000  28844.750000  28300.000000  28545.000000  3.364635e+05\n",
              "max    42200.000000  42680.000000  41880.000000  42560.000000  1.277983e+06"
            ]
          },
          "metadata": {},
          "execution_count": 5
        }
      ]
    },
    {
      "cell_type": "code",
      "metadata": {
        "colab": {
          "base_uri": "https://localhost:8080/"
        },
        "id": "LbwcdR3K0pgn",
        "outputId": "39818a78-e267-467d-926a-353a05e8f20f"
      },
      "source": [
        "dataset.info()\n",
        "#no null values no zero values"
      ],
      "execution_count": 6,
      "outputs": [
        {
          "output_type": "stream",
          "name": "stdout",
          "text": [
            "<class 'pandas.core.frame.DataFrame'>\n",
            "RangeIndex: 1628 entries, 0 to 1627\n",
            "Data columns (total 6 columns):\n",
            " #   Column  Non-Null Count  Dtype \n",
            "---  ------  --------------  ----- \n",
            " 0   Date    1628 non-null   object\n",
            " 1   Open    1628 non-null   int64 \n",
            " 2   High    1628 non-null   int64 \n",
            " 3   Low     1628 non-null   int64 \n",
            " 4   Close   1628 non-null   int64 \n",
            " 5   Volume  1628 non-null   int64 \n",
            "dtypes: int64(5), object(1)\n",
            "memory usage: 76.4+ KB\n"
          ]
        }
      ]
    },
    {
      "cell_type": "code",
      "metadata": {
        "id": "j-wOxHGW0v2r"
      },
      "source": [
        "#observe the plot \n",
        "\n",
        "dataset.plot(x=\"Date\",y=\"Close\",figsize=(16,8),title=\"Stonks\",label=\"Closing price\")"
      ],
      "execution_count": null,
      "outputs": []
    },
    {
      "cell_type": "code",
      "metadata": {
        "colab": {
          "base_uri": "https://localhost:8080/"
        },
        "id": "2SEl46Bi2sp6",
        "outputId": "9b883368-afbf-43e6-cf6a-f18b7b43595a"
      },
      "source": [
        "# just to double confm no null values\n",
        "\n",
        "dataset.isnull().values.any()"
      ],
      "execution_count": 8,
      "outputs": [
        {
          "output_type": "execute_result",
          "data": {
            "text/plain": [
              "False"
            ]
          },
          "metadata": {},
          "execution_count": 8
        }
      ]
    },
    {
      "cell_type": "code",
      "metadata": {
        "id": "r_kThmNIto5z"
      },
      "source": [
        "train_data, test_data = dataset[0:int(len(dataset)*0.8)], dataset[int(len(dataset)*0.8):]"
      ],
      "execution_count": 9,
      "outputs": []
    },
    {
      "cell_type": "code",
      "metadata": {
        "id": "aYv_LBpo2yHj",
        "colab": {
          "base_uri": "https://localhost:8080/"
        },
        "outputId": "7bec3ba9-e803-40e8-cf10-723f23519ced"
      },
      "source": [
        "# Check if price series is stationary\n",
        "from statsmodels.tsa.stattools import adfuller\n",
        "\n",
        "result = adfuller(train_data.Close)\n",
        "print(f\"ADF Statistic: {result[0]}\")\n",
        "print(f\"p-value: {result[1]}\")\n",
        "\n",
        "#it is not staionary as p value is more 0.05 so nd to differentiate"
      ],
      "execution_count": 10,
      "outputs": [
        {
          "output_type": "stream",
          "name": "stdout",
          "text": [
            "ADF Statistic: -2.204728526466629\n",
            "p-value: 0.20453375302022486\n"
          ]
        }
      ]
    },
    {
      "cell_type": "code",
      "metadata": {
        "id": "xvVI07cp1aI_",
        "colab": {
          "base_uri": "https://localhost:8080/"
        },
        "outputId": "7b1c236b-a2d8-4056-98f9-0a6dbfa8123b"
      },
      "source": [
        "# find d term suing adf test\n",
        "\n",
        "!pip install pmdarima scipy==1.2-Uqq\n",
        "\n",
        "\n",
        "from pmdarima.arima.utils import ndiffs\n",
        "ndiffs(train_data.Close, test=\"adf\")\n",
        "\n",
        "#d = 1"
      ],
      "execution_count": 7,
      "outputs": [
        {
          "output_type": "stream",
          "name": "stdout",
          "text": [
            "Requirement already satisfied: pmdarima in /usr/local/lib/python3.7/dist-packages (1.8.3)\n",
            "\u001b[31mERROR: Could not find a version that satisfies the requirement scipy==1.2-Uqq (from versions: 0.8.0, 0.9.0, 0.10.0, 0.10.1, 0.11.0, 0.12.0, 0.12.1, 0.13.0, 0.13.1, 0.13.2, 0.13.3, 0.14.0, 0.14.1, 0.15.0, 0.15.1, 0.16.0, 0.16.1, 0.17.0, 0.17.1, 0.18.0, 0.18.1, 0.19.0, 0.19.1, 1.0.0b1, 1.0.0rc1, 1.0.0rc2, 1.0.0, 1.0.1, 1.1.0rc1, 1.1.0, 1.2.0rc1, 1.2.0rc2, 1.2.0, 1.2.1, 1.2.2, 1.2.3, 1.3.0rc1, 1.3.0rc2, 1.3.0, 1.3.1, 1.3.2, 1.3.3, 1.4.0rc1, 1.4.0rc2, 1.4.0, 1.4.1, 1.5.0rc1, 1.5.0rc2, 1.5.0, 1.5.1, 1.5.2, 1.5.3, 1.5.4, 1.6.0rc1, 1.6.0rc2, 1.6.0, 1.6.1, 1.6.2, 1.6.3, 1.7.0rc1, 1.7.0rc2, 1.7.0, 1.7.1)\u001b[0m\n",
            "\u001b[31mERROR: No matching distribution found for scipy==1.2-Uqq\u001b[0m\n"
          ]
        },
        {
          "output_type": "execute_result",
          "data": {
            "text/plain": [
              "1"
            ]
          },
          "metadata": {},
          "execution_count": 7
        }
      ]
    },
    {
      "cell_type": "code",
      "metadata": {
        "id": "TcsAXC8cKHo9"
      },
      "source": [
        "#inspect autocorrealtion plot \n",
        "\n",
        "from statsmodels.graphics.tsaplots import plot_pacf\n",
        "\n",
        "diff = train_data.Close.diff().dropna()\n",
        "\n",
        "\n",
        "\n",
        "\n",
        "\n",
        "plot_pacf(diff)\n",
        "#p = 1 iwanted to choose 23 as it was above significance level but 1 is close too"
      ],
      "execution_count": null,
      "outputs": []
    },
    {
      "cell_type": "code",
      "metadata": {
        "id": "fbW9UKIMO569"
      },
      "source": [
        "#inspect autocorrealtion plot\n",
        "from statsmodels.graphics.tsaplots import plot_acf\n",
        "\n",
        "plot_acf(train_data.Close.diff().dropna())\n",
        "\n",
        "\n",
        "#q = 1 , iwanted to choose 23 as it was above significance level but 1 is close too"
      ],
      "execution_count": null,
      "outputs": []
    },
    {
      "cell_type": "code",
      "metadata": {
        "id": "Ug9bY52INsE8"
      },
      "source": [
        "\n",
        "from statsmodels.tsa.arima_model import ARIMA\n",
        "import warnings\n",
        "\n",
        "\n",
        "warnings.filterwarnings('ignore', 'statsmodels.tsa.arima_model.ARMA',\n",
        "                        FutureWarning)\n",
        "warnings.filterwarnings('ignore', 'statsmodels.tsa.arima_model.ARIMA',\n",
        "                        FutureWarning)\n",
        "\n",
        "# ARIMA Model\n",
        "model = ARIMA(train_data[\"Close\"], order=(1, 1, 1))\n",
        "result = model.fit()"
      ],
      "execution_count": null,
      "outputs": []
    },
    {
      "cell_type": "code",
      "metadata": {
        "id": "MAj8Lro5SpIV"
      },
      "source": [
        "result.summary()"
      ],
      "execution_count": null,
      "outputs": []
    },
    {
      "cell_type": "code",
      "metadata": {
        "id": "5vq0GKbYvaKh"
      },
      "source": [
        "start=len(train_data)\n",
        "end=len(train_data)+len(test_data)-1\n",
        "pred=result.predict(start=start,end=end,typ='levels').rename('ARIMA Predictions')\n",
        "pred.plot(legend=True)\n",
        "test_data['Close'].plot(legend=True)"
      ],
      "execution_count": null,
      "outputs": []
    },
    {
      "cell_type": "code",
      "metadata": {
        "id": "S2nLywlowMvk"
      },
      "source": [
        "from sklearn.metrics import mean_squared_error\n",
        "from math import sqrt\n",
        "test_data['Close'].mean()\n",
        "rmse=sqrt(mean_squared_error(pred,test_data['Close']))\n",
        "print(rmse)"
      ],
      "execution_count": null,
      "outputs": []
    },
    {
      "cell_type": "code",
      "metadata": {
        "id": "JMFiWN1i_GSl"
      },
      "source": [
        "print(pred)"
      ],
      "execution_count": null,
      "outputs": []
    },
    {
      "cell_type": "code",
      "metadata": {
        "id": "US5pFEic0hex"
      },
      "source": [
        "test_data['Close'].mean()"
      ],
      "execution_count": null,
      "outputs": []
    },
    {
      "cell_type": "code",
      "metadata": {
        "id": "0P-hk7bt_iHS"
      },
      "source": [
        "pred.values"
      ],
      "execution_count": null,
      "outputs": []
    },
    {
      "cell_type": "code",
      "metadata": {
        "id": "BxFQB2JIUeQu"
      },
      "source": [
        "MAmodel = ARIMA(train_data.Close, order=(0, 1, 1))\n",
        "MAresult = MAmodel.fit(disp=0)"
      ],
      "execution_count": null,
      "outputs": []
    },
    {
      "cell_type": "code",
      "metadata": {
        "id": "f793cQzPUmvJ"
      },
      "source": [
        "MAresult.summary()"
      ],
      "execution_count": null,
      "outputs": []
    },
    {
      "cell_type": "code",
      "metadata": {
        "id": "ByUXHaxeUxLG"
      },
      "source": [
        "pred=MAresult.predict(start=start,end=end,typ='levels').rename('AMA Predictions')\n",
        "pred.plot(legend=True)\n",
        "test_data['Close'].plot(legend=True)"
      ],
      "execution_count": null,
      "outputs": []
    },
    {
      "cell_type": "code",
      "metadata": {
        "id": "g8WPlvvrU1gV"
      },
      "source": [
        "rmse=sqrt(mean_squared_error(pred,test_data['Close']))\n",
        "print(rmse)\n",
        "#rmse for MA prediction"
      ],
      "execution_count": null,
      "outputs": []
    },
    {
      "cell_type": "code",
      "metadata": {
        "id": "HNs_-jhBUoZn"
      },
      "source": [
        "ARmodel = ARIMA(train_data.Close, order=(1, 1, 0))\n",
        "ARresult = ARmodel.fit(disp=0)"
      ],
      "execution_count": null,
      "outputs": []
    },
    {
      "cell_type": "code",
      "metadata": {
        "id": "yfc9Q7-PVAUy"
      },
      "source": [
        "pred=ARresult.predict(start=start,end=end,typ='levels').rename('AR Predictions')\n",
        "pred.plot(legend=True)\n",
        "test_data['Close'].plot(legend=True)"
      ],
      "execution_count": null,
      "outputs": []
    },
    {
      "cell_type": "code",
      "metadata": {
        "id": "ewmF1iv3VGiy"
      },
      "source": [
        "rmse=sqrt(mean_squared_error(pred,test_data['Close']))\n",
        "print(rmse)\n",
        "#rmse for AR prediction"
      ],
      "execution_count": null,
      "outputs": []
    },
    {
      "cell_type": "code",
      "metadata": {
        "id": "fNHDpOzN_Mk0"
      },
      "source": [
        "model1 = ARIMA(dataset.Close, order=(1, 1, 1))\n",
        "result1 = model1.fit(disp=0)\n",
        "\n",
        "#choose arima model as lowest rmse\n"
      ],
      "execution_count": null,
      "outputs": []
    },
    {
      "cell_type": "code",
      "metadata": {
        "id": "HnZDmFJn_dTn"
      },
      "source": [
        "start=len(train_data)\n",
        "\n",
        "end=len(train_data)+len(test_data)-1\n",
        "pred=result1.predict(start=start,end=end,typ='levels').rename('ARIMA Predictions')\n",
        "pred.plot(legend=True)\n",
        "\n",
        "test_data['Close'].plot(legend=True)"
      ],
      "execution_count": null,
      "outputs": []
    },
    {
      "cell_type": "code",
      "metadata": {
        "id": "rJOPJUg__YjP"
      },
      "source": [
        "result1.summary()"
      ],
      "execution_count": null,
      "outputs": []
    },
    {
      "cell_type": "code",
      "metadata": {
        "id": "DuHyL3k8_k1o"
      },
      "source": [
        "#for 1086 rows from the end of the train data we have \n",
        "\n",
        "pred = result1.predict(start=len(dataset),end=len(dataset)+1085,typ=\"levels\")"
      ],
      "execution_count": null,
      "outputs": []
    },
    {
      "cell_type": "code",
      "metadata": {
        "id": "V5ryzcZoxHlE"
      },
      "source": [
        "ans = pd.read_csv('sample_submission.csv',parse_dates=True)"
      ],
      "execution_count": null,
      "outputs": []
    },
    {
      "cell_type": "code",
      "metadata": {
        "id": "GnvA3_SHxPSI"
      },
      "source": [
        "ans['Predicted'] = pred.values"
      ],
      "execution_count": null,
      "outputs": []
    },
    {
      "cell_type": "code",
      "metadata": {
        "id": "5ANEbd7TAol2"
      },
      "source": [
        "ans"
      ],
      "execution_count": null,
      "outputs": []
    },
    {
      "cell_type": "code",
      "metadata": {
        "id": "HBkV5WIkBKN-"
      },
      "source": [
        "ans.to_csv(\"ans.csv\", sep='\\t',index=False)"
      ],
      "execution_count": null,
      "outputs": []
    },
    {
      "cell_type": "code",
      "metadata": {
        "id": "c8p96l08DWPQ"
      },
      "source": [
        "from google.colab import drive\n",
        "drive.mount('drive')\n",
        "\n",
        "!cp ans.csv \"drive/My Drive/\""
      ],
      "execution_count": null,
      "outputs": []
    },
    {
      "cell_type": "code",
      "metadata": {
        "id": "hEDxcGNNDsSe"
      },
      "source": [
        "!cp ans.csv \"drive/My Drive/\""
      ],
      "execution_count": null,
      "outputs": []
    },
    {
      "cell_type": "code",
      "metadata": {
        "id": "JiGPT1qG3OrV"
      },
      "source": [
        "\"\"\"model2 = ARIMA(dataset.Close, order=(7, 1, 7))\n",
        "result2 = model2.fit(disp=0)\n",
        "#index_future_dates=pd.date_range(start='2017-04-13',end='2021-09-13')\n",
        "#print(index_future_dates)\n",
        "pred=result2.predict(start=len(dataset),end=len(dataset)+1085).rename('ARIMA Predictions')\n",
        "#print(comp_pred)\n",
        "\n",
        "print(pred)\"\"\"\n"
      ],
      "execution_count": null,
      "outputs": []
    }
  ]
}